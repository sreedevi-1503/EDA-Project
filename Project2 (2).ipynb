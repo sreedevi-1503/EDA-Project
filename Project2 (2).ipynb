{
 "cells": [
  {
   "cell_type": "code",
   "execution_count": 93,
   "id": "b0a5ef55-2b57-48e3-918d-f7988119c114",
   "metadata": {},
   "outputs": [],
   "source": [
    "import pandas as pd\n",
    "import numpy as np\n",
    "import matplotlib.pyplot as plt\n",
    "import seaborn as sns"
   ]
  },
  {
   "cell_type": "code",
   "execution_count": 94,
   "id": "54ed7465-1f7a-42bd-b09c-d7f3bd46ab46",
   "metadata": {},
   "outputs": [
    {
     "data": {
      "text/html": [
       "<div>\n",
       "<style scoped>\n",
       "    .dataframe tbody tr th:only-of-type {\n",
       "        vertical-align: middle;\n",
       "    }\n",
       "\n",
       "    .dataframe tbody tr th {\n",
       "        vertical-align: top;\n",
       "    }\n",
       "\n",
       "    .dataframe thead th {\n",
       "        text-align: right;\n",
       "    }\n",
       "</style>\n",
       "<table border=\"1\" class=\"dataframe\">\n",
       "  <thead>\n",
       "    <tr style=\"text-align: right;\">\n",
       "      <th></th>\n",
       "      <th>Name</th>\n",
       "      <th>Team</th>\n",
       "      <th>Number</th>\n",
       "      <th>Position</th>\n",
       "      <th>Age</th>\n",
       "      <th>Height</th>\n",
       "      <th>Weight</th>\n",
       "      <th>College</th>\n",
       "      <th>Salary</th>\n",
       "    </tr>\n",
       "  </thead>\n",
       "  <tbody>\n",
       "    <tr>\n",
       "      <th>0</th>\n",
       "      <td>Avery Bradley</td>\n",
       "      <td>Boston Celtics</td>\n",
       "      <td>0</td>\n",
       "      <td>PG</td>\n",
       "      <td>25</td>\n",
       "      <td>06-Feb</td>\n",
       "      <td>180</td>\n",
       "      <td>Texas</td>\n",
       "      <td>7730337.0</td>\n",
       "    </tr>\n",
       "    <tr>\n",
       "      <th>1</th>\n",
       "      <td>Jae Crowder</td>\n",
       "      <td>Boston Celtics</td>\n",
       "      <td>99</td>\n",
       "      <td>SF</td>\n",
       "      <td>25</td>\n",
       "      <td>06-Jun</td>\n",
       "      <td>235</td>\n",
       "      <td>Marquette</td>\n",
       "      <td>6796117.0</td>\n",
       "    </tr>\n",
       "    <tr>\n",
       "      <th>2</th>\n",
       "      <td>John Holland</td>\n",
       "      <td>Boston Celtics</td>\n",
       "      <td>30</td>\n",
       "      <td>SG</td>\n",
       "      <td>27</td>\n",
       "      <td>06-May</td>\n",
       "      <td>205</td>\n",
       "      <td>Boston University</td>\n",
       "      <td>NaN</td>\n",
       "    </tr>\n",
       "    <tr>\n",
       "      <th>3</th>\n",
       "      <td>R.J. Hunter</td>\n",
       "      <td>Boston Celtics</td>\n",
       "      <td>28</td>\n",
       "      <td>SG</td>\n",
       "      <td>22</td>\n",
       "      <td>06-May</td>\n",
       "      <td>185</td>\n",
       "      <td>Georgia State</td>\n",
       "      <td>1148640.0</td>\n",
       "    </tr>\n",
       "    <tr>\n",
       "      <th>4</th>\n",
       "      <td>Jonas Jerebko</td>\n",
       "      <td>Boston Celtics</td>\n",
       "      <td>8</td>\n",
       "      <td>PF</td>\n",
       "      <td>29</td>\n",
       "      <td>06-Oct</td>\n",
       "      <td>231</td>\n",
       "      <td>NaN</td>\n",
       "      <td>5000000.0</td>\n",
       "    </tr>\n",
       "    <tr>\n",
       "      <th>...</th>\n",
       "      <td>...</td>\n",
       "      <td>...</td>\n",
       "      <td>...</td>\n",
       "      <td>...</td>\n",
       "      <td>...</td>\n",
       "      <td>...</td>\n",
       "      <td>...</td>\n",
       "      <td>...</td>\n",
       "      <td>...</td>\n",
       "    </tr>\n",
       "    <tr>\n",
       "      <th>453</th>\n",
       "      <td>Shelvin Mack</td>\n",
       "      <td>Utah Jazz</td>\n",
       "      <td>8</td>\n",
       "      <td>PG</td>\n",
       "      <td>26</td>\n",
       "      <td>06-Mar</td>\n",
       "      <td>203</td>\n",
       "      <td>Butler</td>\n",
       "      <td>2433333.0</td>\n",
       "    </tr>\n",
       "    <tr>\n",
       "      <th>454</th>\n",
       "      <td>Raul Neto</td>\n",
       "      <td>Utah Jazz</td>\n",
       "      <td>25</td>\n",
       "      <td>PG</td>\n",
       "      <td>24</td>\n",
       "      <td>06-Jan</td>\n",
       "      <td>179</td>\n",
       "      <td>NaN</td>\n",
       "      <td>900000.0</td>\n",
       "    </tr>\n",
       "    <tr>\n",
       "      <th>455</th>\n",
       "      <td>Tibor Pleiss</td>\n",
       "      <td>Utah Jazz</td>\n",
       "      <td>21</td>\n",
       "      <td>C</td>\n",
       "      <td>26</td>\n",
       "      <td>07-Mar</td>\n",
       "      <td>256</td>\n",
       "      <td>NaN</td>\n",
       "      <td>2900000.0</td>\n",
       "    </tr>\n",
       "    <tr>\n",
       "      <th>456</th>\n",
       "      <td>Jeff Withey</td>\n",
       "      <td>Utah Jazz</td>\n",
       "      <td>24</td>\n",
       "      <td>C</td>\n",
       "      <td>26</td>\n",
       "      <td>7-0</td>\n",
       "      <td>231</td>\n",
       "      <td>Kansas</td>\n",
       "      <td>947276.0</td>\n",
       "    </tr>\n",
       "    <tr>\n",
       "      <th>457</th>\n",
       "      <td>Priyanka</td>\n",
       "      <td>Utah Jazz</td>\n",
       "      <td>34</td>\n",
       "      <td>C</td>\n",
       "      <td>25</td>\n",
       "      <td>07-Mar</td>\n",
       "      <td>231</td>\n",
       "      <td>Kansas</td>\n",
       "      <td>947276.0</td>\n",
       "    </tr>\n",
       "  </tbody>\n",
       "</table>\n",
       "<p>458 rows × 9 columns</p>\n",
       "</div>"
      ],
      "text/plain": [
       "              Name            Team  Number Position  Age  Height  Weight  \\\n",
       "0    Avery Bradley  Boston Celtics       0       PG   25  06-Feb     180   \n",
       "1      Jae Crowder  Boston Celtics      99       SF   25  06-Jun     235   \n",
       "2     John Holland  Boston Celtics      30       SG   27  06-May     205   \n",
       "3      R.J. Hunter  Boston Celtics      28       SG   22  06-May     185   \n",
       "4    Jonas Jerebko  Boston Celtics       8       PF   29  06-Oct     231   \n",
       "..             ...             ...     ...      ...  ...     ...     ...   \n",
       "453   Shelvin Mack       Utah Jazz       8       PG   26  06-Mar     203   \n",
       "454      Raul Neto       Utah Jazz      25       PG   24  06-Jan     179   \n",
       "455   Tibor Pleiss       Utah Jazz      21        C   26  07-Mar     256   \n",
       "456    Jeff Withey       Utah Jazz      24        C   26     7-0     231   \n",
       "457       Priyanka       Utah Jazz      34        C   25  07-Mar     231   \n",
       "\n",
       "               College     Salary  \n",
       "0                Texas  7730337.0  \n",
       "1            Marquette  6796117.0  \n",
       "2    Boston University        NaN  \n",
       "3        Georgia State  1148640.0  \n",
       "4                  NaN  5000000.0  \n",
       "..                 ...        ...  \n",
       "453             Butler  2433333.0  \n",
       "454                NaN   900000.0  \n",
       "455                NaN  2900000.0  \n",
       "456             Kansas   947276.0  \n",
       "457             Kansas   947276.0  \n",
       "\n",
       "[458 rows x 9 columns]"
      ]
     },
     "execution_count": 94,
     "metadata": {},
     "output_type": "execute_result"
    }
   ],
   "source": [
    "\n",
    "df = pd.read_csv(\"project.csv\")\n",
    "df"
   ]
  },
  {
   "cell_type": "code",
   "execution_count": 95,
   "id": "b2bb3974-ef75-4fbf-99cd-b2cfe4777dc8",
   "metadata": {},
   "outputs": [
    {
     "data": {
      "text/plain": [
       "0"
      ]
     },
     "execution_count": 95,
     "metadata": {},
     "output_type": "execute_result"
    }
   ],
   "source": [
    "df.duplicated().sum()"
   ]
  },
  {
   "cell_type": "code",
   "execution_count": 96,
   "id": "84ca1ba2-fb7b-4f06-9e8f-8223d162d139",
   "metadata": {},
   "outputs": [
    {
     "data": {
      "text/plain": [
       "array(['Boston Celtics', 'Brooklyn Nets', 'New York Knicks',\n",
       "       'Philadelphia 76ers', 'Toronto Raptors', 'Golden State Warriors',\n",
       "       'Los Angeles Clippers', 'Los Angeles Lakers', 'Phoenix Suns',\n",
       "       'Sacramento Kings', 'Chicago Bulls', 'Cleveland Cavaliers',\n",
       "       'Detroit Pistons', 'Indiana Pacers', 'Milwaukee Bucks',\n",
       "       'Dallas Mavericks', 'Houston Rockets', 'Memphis Grizzlies',\n",
       "       'New Orleans Pelicans', 'San Antonio Spurs', 'Atlanta Hawks',\n",
       "       'Charlotte Hornets', 'Miami Heat', 'Orlando Magic',\n",
       "       'Washington Wizards', 'Denver Nuggets', 'Minnesota Timberwolves',\n",
       "       'Oklahoma City Thunder', 'Portland Trail Blazers', 'Utah Jazz'],\n",
       "      dtype=object)"
      ]
     },
     "execution_count": 96,
     "metadata": {},
     "output_type": "execute_result"
    }
   ],
   "source": [
    "df.Team.unique()"
   ]
  },
  {
   "cell_type": "code",
   "execution_count": 97,
   "id": "f87418c9-e8d8-4d92-a132-877343c8ad91",
   "metadata": {},
   "outputs": [
    {
     "data": {
      "text/plain": [
       "30"
      ]
     },
     "execution_count": 97,
     "metadata": {},
     "output_type": "execute_result"
    }
   ],
   "source": [
    "df.Team.nunique()"
   ]
  },
  {
   "cell_type": "code",
   "execution_count": 98,
   "id": "d0386281-0bd5-4f4f-9e0e-251a6142ac30",
   "metadata": {},
   "outputs": [
    {
     "data": {
      "text/plain": [
       "array([ 0, 99, 30, 28,  8, 90, 55, 41, 12, 36,  7,  4, 11, 13, 44, 22, 21,\n",
       "       24,  2, 10,  6,  1, 33, 14, 15, 17, 43,  3,  9, 42, 18, 23,  5, 39,\n",
       "       31, 35, 20, 92, 54, 19, 40, 34, 45, 32, 25, 50, 37, 26, 16, 52, 27,\n",
       "       77, 88], dtype=int64)"
      ]
     },
     "execution_count": 98,
     "metadata": {},
     "output_type": "execute_result"
    }
   ],
   "source": [
    "df.Number.unique()"
   ]
  },
  {
   "cell_type": "code",
   "execution_count": 99,
   "id": "8d9691d7-b769-4914-a410-41f04895fb2e",
   "metadata": {},
   "outputs": [
    {
     "data": {
      "text/plain": [
       "53"
      ]
     },
     "execution_count": 99,
     "metadata": {},
     "output_type": "execute_result"
    }
   ],
   "source": [
    "df.Number.nunique()"
   ]
  },
  {
   "cell_type": "code",
   "execution_count": 100,
   "id": "9bc05ea8-741e-4a10-8f04-25cc47a89f06",
   "metadata": {},
   "outputs": [
    {
     "data": {
      "text/plain": [
       "array(['PG', 'SF', 'SG', 'PF', 'C'], dtype=object)"
      ]
     },
     "execution_count": 100,
     "metadata": {},
     "output_type": "execute_result"
    }
   ],
   "source": [
    "df.Position.unique()"
   ]
  },
  {
   "cell_type": "code",
   "execution_count": 101,
   "id": "4a86a272-ef81-4866-8f01-e66afd5b7cd1",
   "metadata": {},
   "outputs": [
    {
     "data": {
      "text/plain": [
       "array([25, 27, 22, 29, 21, 24, 20, 26, 28, 32, 23, 30, 33, 34, 37, 36, 31,\n",
       "       38, 39, 19, 35, 40], dtype=int64)"
      ]
     },
     "execution_count": 101,
     "metadata": {},
     "output_type": "execute_result"
    }
   ],
   "source": [
    "df.Age.unique()"
   ]
  },
  {
   "cell_type": "code",
   "execution_count": 102,
   "id": "e5f169c9-9b96-4036-841d-86b3538c5118",
   "metadata": {},
   "outputs": [
    {
     "data": {
      "text/plain": [
       "22"
      ]
     },
     "execution_count": 102,
     "metadata": {},
     "output_type": "execute_result"
    }
   ],
   "source": [
    "df.Age.nunique()"
   ]
  },
  {
   "cell_type": "code",
   "execution_count": 103,
   "id": "d3d845c6-5ea1-4d1d-b8c8-ee6446a2f4bc",
   "metadata": {},
   "outputs": [
    {
     "data": {
      "text/plain": [
       "array(['06-Feb', '06-Jun', '06-May', '06-Oct', '06-Sep', '06-Aug', '7-0',\n",
       "       '06-Apr', '05-Sep', '06-Jul', '06-Mar', '05-Nov', '06-Nov',\n",
       "       '07-Mar', '6-0', '07-Feb', '06-Jan', '07-Jan'], dtype=object)"
      ]
     },
     "execution_count": 103,
     "metadata": {},
     "output_type": "execute_result"
    }
   ],
   "source": [
    "df.Height.unique()"
   ]
  },
  {
   "cell_type": "code",
   "execution_count": 104,
   "id": "dd892a9b-6a73-4616-afbd-eaaaed982bff",
   "metadata": {},
   "outputs": [
    {
     "data": {
      "text/plain": [
       "18"
      ]
     },
     "execution_count": 104,
     "metadata": {},
     "output_type": "execute_result"
    }
   ],
   "source": [
    "df.Height.nunique()"
   ]
  },
  {
   "cell_type": "code",
   "execution_count": 105,
   "id": "3a4d2227-23d6-48f7-8476-eab8e4a3a7a7",
   "metadata": {},
   "outputs": [
    {
     "data": {
      "text/plain": [
       "array([180, 235, 205, 185, 231, 240, 238, 190, 220, 260, 215, 253, 216,\n",
       "       200, 208, 219, 175, 275, 237, 248, 221, 210, 195, 255, 250, 278,\n",
       "       254, 201, 245, 228, 206, 212, 194, 225, 265, 230, 192, 273, 251,\n",
       "       270, 209, 189, 242, 213, 186, 161, 191, 232, 198, 193, 233, 218,\n",
       "       179, 172, 279, 188, 222, 243, 229, 246, 234, 257, 249, 217, 202,\n",
       "       252, 226, 165, 227, 239, 203, 170, 290, 199, 289, 184, 169, 207,\n",
       "       183, 280, 214, 241, 223, 307, 244, 173, 256], dtype=int64)"
      ]
     },
     "execution_count": 105,
     "metadata": {},
     "output_type": "execute_result"
    }
   ],
   "source": [
    "df.Weight.unique()"
   ]
  },
  {
   "cell_type": "code",
   "execution_count": 106,
   "id": "b140a97f-5cd5-405e-aa4e-685c32097bd8",
   "metadata": {},
   "outputs": [
    {
     "data": {
      "text/plain": [
       "87"
      ]
     },
     "execution_count": 106,
     "metadata": {},
     "output_type": "execute_result"
    }
   ],
   "source": [
    "df.Weight.nunique()"
   ]
  },
  {
   "cell_type": "code",
   "execution_count": 107,
   "id": "6b09a6b6-29a7-402a-8c29-68ad2ea6263a",
   "metadata": {},
   "outputs": [
    {
     "data": {
      "text/plain": [
       "array(['Texas', 'Marquette', 'Boston University', 'Georgia State', nan,\n",
       "       'LSU', 'Gonzaga', 'Louisville', 'Oklahoma State', 'Ohio State',\n",
       "       'Washington', 'Kentucky', 'North Carolina', 'Arizona',\n",
       "       'Georgia Tech', 'Cincinnati', 'Miami (FL)', 'Stanford', 'Syracuse',\n",
       "       'Saint Louis', 'Kansas', 'Georgetown', 'Texas A&M', 'UCLA', 'UNLV',\n",
       "       'Wichita State', \"Saint Joseph's\", 'Notre Dame', 'Norfolk State',\n",
       "       'Duke', 'Murray State', 'Tennessee State', 'Bowling Green',\n",
       "       'Purdue', 'Wake Forest', 'Michigan', 'Missouri', 'USC',\n",
       "       'Villanova', 'Rider', 'Utah', 'Belmont', 'Davidson', 'Vanderbilt',\n",
       "       'Michigan State', 'Florida', 'Washington State', 'Arizona State',\n",
       "       'Oklahoma', 'Wyoming', \"St. John's\", 'Maryland', 'Wisconsin',\n",
       "       'Utah Valley', 'North Carolina State', 'UC Santa Barbara',\n",
       "       'Baylor', 'Connecticut', 'Oregon State', 'New Mexico', 'Oregon',\n",
       "       'Creighton', 'Arkansas', 'Memphis', \"Saint Mary's\", 'Tennessee',\n",
       "       'Alabama', 'Georgia', 'Colorado', 'Boston College', 'Temple',\n",
       "       'Fresno State', 'IUPUI', 'Eastern Washington', 'Western Michigan',\n",
       "       'Virginia', 'Northeastern', 'Western Kentucky', 'Nevada',\n",
       "       'Illinois', 'Kansas State', 'Charleston', 'Clemson',\n",
       "       'Blinn College', 'Providence', 'Detroit', 'Rhode Island',\n",
       "       'California', 'Cleveland State', 'Iowa State', 'Florida State',\n",
       "       'Long Beach State', 'Penn State', 'Indiana', 'San Diego State',\n",
       "       'Western Carolina', 'Houston', 'Xavier', 'Old Dominion',\n",
       "       'Minnesota', 'Louisiana Tech', 'Bucknell', 'Pittsburgh',\n",
       "       'Virginia Commonwealth', 'Harvard', 'Marshall', 'Iowa',\n",
       "       'St. Bonaventure', 'Louisiana-Lafayette', 'Colorado State',\n",
       "       'Virginia Tech', 'DePaul', 'Morehead State', 'Central Michigan',\n",
       "       'Weber State', 'Lehigh', 'Westchester CC', 'Dayton', 'Butler'],\n",
       "      dtype=object)"
      ]
     },
     "execution_count": 107,
     "metadata": {},
     "output_type": "execute_result"
    }
   ],
   "source": [
    "df.College.unique()"
   ]
  },
  {
   "cell_type": "code",
   "execution_count": 108,
   "id": "fbc09233-a825-4733-aa76-08010df494a6",
   "metadata": {},
   "outputs": [
    {
     "data": {
      "text/plain": [
       "118"
      ]
     },
     "execution_count": 108,
     "metadata": {},
     "output_type": "execute_result"
    }
   ],
   "source": [
    "df.College.nunique()"
   ]
  },
  {
   "cell_type": "code",
   "execution_count": 109,
   "id": "17604d0f-33f5-406d-b6b2-bea1dc0e576e",
   "metadata": {},
   "outputs": [
    {
     "data": {
      "text/plain": [
       "array([ 7730337.,  6796117.,       nan,  1148640.,  5000000., 12000000.,\n",
       "        1170960.,  2165160.,  1824360.,  3431040.,  2569260.,  6912869.,\n",
       "        3425510.,  1749840.,  2616975.,   845059.,  1500000.,  1335480.,\n",
       "        6300000.,  1599840.,   134215., 19689000.,  1140240.,   947276.,\n",
       "         981348., 11235955.,  8000000.,  1635476.,    30888., 22875000.,\n",
       "        7402812.,  1572360., 12650000.,  3750000.,  4131720.,  2814000.,\n",
       "        1636842.,  4000000.,   167406.,  1000000.,  4626960.,  1074169.,\n",
       "        6500000.,  2144772.,   525093.,  3457800.,  4582680.,  2869440.,\n",
       "        1524000., 13600000., 10050000.,  2500000.,  7000000.,  1842000.,\n",
       "        6268675.,   650000.,  3553917.,  2900000.,   245177.,  4660482.,\n",
       "        1509360.,  3873398., 13800000., 11370786.,  2008748., 14260870.,\n",
       "       11710456.,  5543725.,  1131960.,  1270964.,  3815000., 15501000.,\n",
       "         289755.,  1100602.,   111444.,  5675000.,  9650000., 18907726.,\n",
       "       21468695.,  3376000.,   947726.,  7085000.,  3110796.,  1159680.,\n",
       "        3000000.,   700000., 25000000., 15592217.,  1724250.,  1155600.,\n",
       "        3132240.,  5103120.,  5219169., 13500000.,  2127840.,   206192.,\n",
       "       13000000.,  1160160.,  3807120.,  1035000.,    55722.,  5500000.,\n",
       "        2041080.,    83397.,  1015421.,  6060606.,  1449187.,  2836186.,\n",
       "        3398280.,  5013559., 15851950., 12403101.,  7700000.,  3156600.,\n",
       "        9500000.,  2250000., 16407500.,  4500000.,  7448760.,  8500000.,\n",
       "        2380440., 13400000.,  1391160., 20093064.,  1535880.,  1147276.,\n",
       "        8193029., 16407501., 22970500.,  1276000.,   111196.,  4950000.,\n",
       "        8988765.,  2100000.,  2170465.,  1252440.,  2891760.,  3272091.,\n",
       "       16000000.,   600000., 13913044.,  2841960.,  6270000.,  4050000.,\n",
       "        1007026., 10300000., 17120106.,  1358880.,   211744.,  4394225.,\n",
       "        1100000.,  2357760.,  1953960.,  2399040.,  1662360.,  2943221.,\n",
       "         855000., 14700000.,   295327.,  5152440.,  2109294.,  6600000.,\n",
       "        1733040.,  1449000.,  4290000.,  3950313.,  4053446.,  2085671.,\n",
       "        8333334.,  5200000., 15361500.,  5378974.,  8193030.,   306527.,\n",
       "        6486486.,  8229375.,  1242720.,  1646400.,   200600., 15756438.,\n",
       "       22359364.,  2489530.,  3189794.,  2288205.,  1404600.,  5158539.,\n",
       "        3542500.,  4088019.,  9588426.,   700902., 19688000.,  1201440.,\n",
       "        1230840.,  9638555.,  9000000.,  5464000.,  4389607.,  9213483.,\n",
       "        3036927.,  2850000.,  7070730.,   169883.,  1164858., 10734586.,\n",
       "        1320000., 15514031., 10595507.,  3382023.,  1142880.,  7500000.,\n",
       "        5250000., 10000000.,  1200000.,   250750.,  3578947., 13437500.,\n",
       "        1499187.,  2000000.,  1304520.,  2854940.,  5746479., 18671659.,\n",
       "        1763400.,  3333333.,  9756250., 13125306.,   189455.,  6110034.,\n",
       "        2612520.,  6331404.,  3034356.,  2139000.,  4204200., 22192730.,\n",
       "       10151612., 14783000.,   261894., 20000000.,  2481720.,  4171680.,\n",
       "        3741480.,  7900000.,  8344497.,  1294440.,  2380593.,  5192520.,\n",
       "        2505720.,  4300000., 11250000.,  5694674.,  4375000.,   561716.,\n",
       "        3300000., 11217391.,   273038.,  1920240.,  4662960.,  3533333.,\n",
       "       10449438., 14000000.,  1584480.,  1300000.,  1709719.,  3102240.,\n",
       "        4345000.,   258489.,  3950001.,  1474440.,  1282080.,  2148360.,\n",
       "        2056920.,  1938840., 12100000., 12700000.,  1149500.,  5703600.,\n",
       "        5758680.,  2279040., 20158622.,  3135000., 12250000.,  1463040.,\n",
       "         222888.,  3344000.,  2021520.,  1210800.,  5138430., 16744218.,\n",
       "        8042895.,   625093.,  6980802.,  2894059.,  6000000.,  5016000.,\n",
       "        3075880.,  4236287.,  2525160.,  1415520.,  2637720.,  4775000.,\n",
       "        2658240.,  9463484.,  3777720.,  1175880., 15409570.,  1348440.,\n",
       "        2050000.,  2239800.,  2433333.,   900000.])"
      ]
     },
     "execution_count": 109,
     "metadata": {},
     "output_type": "execute_result"
    }
   ],
   "source": [
    "df.Salary.unique()"
   ]
  },
  {
   "cell_type": "code",
   "execution_count": 110,
   "id": "e209d37b-199d-4525-be8e-0c40baf86330",
   "metadata": {},
   "outputs": [
    {
     "data": {
      "text/plain": [
       "309"
      ]
     },
     "execution_count": 110,
     "metadata": {},
     "output_type": "execute_result"
    }
   ],
   "source": [
    "df.Salary.nunique()"
   ]
  },
  {
   "cell_type": "code",
   "execution_count": 111,
   "id": "ebbc9f35-42a9-469c-979e-da9ebd211874",
   "metadata": {},
   "outputs": [
    {
     "data": {
      "text/plain": [
       "0      160\n",
       "1      159\n",
       "2      174\n",
       "3      164\n",
       "4      165\n",
       "      ... \n",
       "453    160\n",
       "454    162\n",
       "455    150\n",
       "456    154\n",
       "457    180\n",
       "Name: height, Length: 458, dtype: int32"
      ]
     },
     "execution_count": 111,
     "metadata": {},
     "output_type": "execute_result"
    }
   ],
   "source": [
    "df['height'] = np.random.randint(150, 181, size=len(df))\n",
    "df['height']"
   ]
  },
  {
   "cell_type": "code",
   "execution_count": 112,
   "id": "edcdd286-715d-4d42-8f62-1c6cd10ddbb8",
   "metadata": {},
   "outputs": [
    {
     "name": "stdout",
     "output_type": "stream",
     "text": [
      "                      Team  Count  Percentage\n",
      "0     New Orleans Pelicans     19    4.148472\n",
      "1        Memphis Grizzlies     18    3.930131\n",
      "2                Utah Jazz     16    3.493450\n",
      "3          New York Knicks     16    3.493450\n",
      "4          Milwaukee Bucks     16    3.493450\n",
      "5            Brooklyn Nets     15    3.275109\n",
      "6   Portland Trail Blazers     15    3.275109\n",
      "7    Oklahoma City Thunder     15    3.275109\n",
      "8           Denver Nuggets     15    3.275109\n",
      "9       Washington Wizards     15    3.275109\n",
      "10              Miami Heat     15    3.275109\n",
      "11       Charlotte Hornets     15    3.275109\n",
      "12           Atlanta Hawks     15    3.275109\n",
      "13       San Antonio Spurs     15    3.275109\n",
      "14         Houston Rockets     15    3.275109\n",
      "15          Boston Celtics     15    3.275109\n",
      "16          Indiana Pacers     15    3.275109\n",
      "17         Detroit Pistons     15    3.275109\n",
      "18     Cleveland Cavaliers     15    3.275109\n",
      "19           Chicago Bulls     15    3.275109\n",
      "20        Sacramento Kings     15    3.275109\n",
      "21            Phoenix Suns     15    3.275109\n",
      "22      Los Angeles Lakers     15    3.275109\n",
      "23    Los Angeles Clippers     15    3.275109\n",
      "24   Golden State Warriors     15    3.275109\n",
      "25         Toronto Raptors     15    3.275109\n",
      "26      Philadelphia 76ers     15    3.275109\n",
      "27        Dallas Mavericks     15    3.275109\n",
      "28           Orlando Magic     14    3.056769\n",
      "29  Minnesota Timberwolves     14    3.056769\n"
     ]
    }
   ],
   "source": [
    "#Number of employees in each team\n",
    "team_counts = df['Team'].value_counts()\n",
    "total_employees = len(df)\n",
    "team_percentage = (team_counts / total_employees) * 100\n",
    "\n",
    "team_report = pd.DataFrame({\n",
    "    'Team': team_counts.index,\n",
    "    'Count': team_counts.values,\n",
    "    'Percentage': team_percentage.values\n",
    "})\n",
    "\n",
    "print(team_report)     #Display counts and percentages"
   ]
  },
  {
   "cell_type": "markdown",
   "id": "0540f0ef-e4ee-4b96-bf25-1951d024f297",
   "metadata": {},
   "source": [
    "# Segregate empoloyees by different positions"
   ]
  },
  {
   "cell_type": "code",
   "execution_count": 113,
   "id": "5e98e7c2-ce22-40fd-8060-7d0b76ba429e",
   "metadata": {},
   "outputs": [
    {
     "name": "stdout",
     "output_type": "stream",
     "text": [
      "  Position  Count\n",
      "0       SG    102\n",
      "1       PF    100\n",
      "2       PG     92\n",
      "3       SF     85\n",
      "4        C     79\n"
     ]
    }
   ],
   "source": [
    "# Number of employees in each position\n",
    "position_counts = df['Position'].value_counts()\n",
    "position_report = pd.DataFrame({\n",
    "    'Position': position_counts.index,\n",
    "    'Count': position_counts.values\n",
    "})\n",
    "print(position_report)      # Display the counts"
   ]
  },
  {
   "cell_type": "markdown",
   "id": "5509da34-45e1-447e-a8cf-d7089350f263",
   "metadata": {},
   "source": [
    "# Age Group Distribution"
   ]
  },
  {
   "cell_type": "code",
   "execution_count": 114,
   "id": "70af2cb4-c154-410e-af5e-bb06c6ec589b",
   "metadata": {},
   "outputs": [
    {
     "name": "stdout",
     "output_type": "stream",
     "text": [
      "  Age Group  Count\n",
      "0     18-24    154\n",
      "1     25-34    272\n",
      "2     35-44     32\n",
      "3     45-54      0\n",
      "4     55-64      0\n"
     ]
    }
   ],
   "source": [
    "bins = [18, 25, 35, 45, 55, 65]\n",
    "labels = ['18-24', '25-34', '35-44', '45-54', '55-64']\n",
    "df['age_group'] = pd.cut(df['Age'], bins=bins, labels=labels, right=False)\n",
    "age_group_counts = df['age_group'].value_counts().sort_index()\n",
    "age_group_report = pd.DataFrame({\n",
    "    'Age Group': age_group_counts.index,\n",
    "    'Count': age_group_counts.values\n",
    "})\n",
    "\n",
    "print(age_group_report)"
   ]
  },
  {
   "cell_type": "markdown",
   "id": "a8bf33a6-e026-4c5e-a068-8cb9a864ed5a",
   "metadata": {},
   "source": [
    "Data Story-  The maximum no of employees belong to the Age Group 25-34 "
   ]
  },
  {
   "cell_type": "markdown",
   "id": "7ce45d81-02c9-41d6-9969-7851b1ca422d",
   "metadata": {},
   "source": [
    "# Highest Spending in Terms of Salary by Team and Position"
   ]
  },
  {
   "cell_type": "code",
   "execution_count": 115,
   "id": "d658a1f5-d5ee-4b44-997e-33521e8f71b8",
   "metadata": {},
   "outputs": [
    {
     "data": {
      "text/html": [
       "<div>\n",
       "<style scoped>\n",
       "    .dataframe tbody tr th:only-of-type {\n",
       "        vertical-align: middle;\n",
       "    }\n",
       "\n",
       "    .dataframe tbody tr th {\n",
       "        vertical-align: top;\n",
       "    }\n",
       "\n",
       "    .dataframe thead th {\n",
       "        text-align: right;\n",
       "    }\n",
       "</style>\n",
       "<table border=\"1\" class=\"dataframe\">\n",
       "  <thead>\n",
       "    <tr style=\"text-align: right;\">\n",
       "      <th></th>\n",
       "      <th>Name</th>\n",
       "      <th>Team</th>\n",
       "      <th>Number</th>\n",
       "      <th>Position</th>\n",
       "      <th>Age</th>\n",
       "      <th>Height</th>\n",
       "      <th>Weight</th>\n",
       "      <th>College</th>\n",
       "      <th>Salary</th>\n",
       "      <th>height</th>\n",
       "      <th>age_group</th>\n",
       "    </tr>\n",
       "  </thead>\n",
       "  <tbody>\n",
       "    <tr>\n",
       "      <th>109</th>\n",
       "      <td>Kobe Bryant</td>\n",
       "      <td>Los Angeles Lakers</td>\n",
       "      <td>24</td>\n",
       "      <td>SF</td>\n",
       "      <td>37</td>\n",
       "      <td>06-Jun</td>\n",
       "      <td>212</td>\n",
       "      <td>NaN</td>\n",
       "      <td>25000000.0</td>\n",
       "      <td>176</td>\n",
       "      <td>35-44</td>\n",
       "    </tr>\n",
       "    <tr>\n",
       "      <th>169</th>\n",
       "      <td>LeBron James</td>\n",
       "      <td>Cleveland Cavaliers</td>\n",
       "      <td>23</td>\n",
       "      <td>SF</td>\n",
       "      <td>31</td>\n",
       "      <td>06-Aug</td>\n",
       "      <td>250</td>\n",
       "      <td>NaN</td>\n",
       "      <td>22970500.0</td>\n",
       "      <td>179</td>\n",
       "      <td>25-34</td>\n",
       "    </tr>\n",
       "    <tr>\n",
       "      <th>33</th>\n",
       "      <td>Carmelo Anthony</td>\n",
       "      <td>New York Knicks</td>\n",
       "      <td>7</td>\n",
       "      <td>SF</td>\n",
       "      <td>32</td>\n",
       "      <td>06-Aug</td>\n",
       "      <td>240</td>\n",
       "      <td>Syracuse</td>\n",
       "      <td>22875000.0</td>\n",
       "      <td>177</td>\n",
       "      <td>25-34</td>\n",
       "    </tr>\n",
       "    <tr>\n",
       "      <th>251</th>\n",
       "      <td>Dwight Howard</td>\n",
       "      <td>Houston Rockets</td>\n",
       "      <td>12</td>\n",
       "      <td>C</td>\n",
       "      <td>30</td>\n",
       "      <td>06-Nov</td>\n",
       "      <td>265</td>\n",
       "      <td>NaN</td>\n",
       "      <td>22359364.0</td>\n",
       "      <td>168</td>\n",
       "      <td>25-34</td>\n",
       "    </tr>\n",
       "    <tr>\n",
       "      <th>339</th>\n",
       "      <td>Chris Bosh</td>\n",
       "      <td>Miami Heat</td>\n",
       "      <td>1</td>\n",
       "      <td>PF</td>\n",
       "      <td>32</td>\n",
       "      <td>06-Nov</td>\n",
       "      <td>235</td>\n",
       "      <td>Georgia Tech</td>\n",
       "      <td>22192730.0</td>\n",
       "      <td>167</td>\n",
       "      <td>25-34</td>\n",
       "    </tr>\n",
       "    <tr>\n",
       "      <th>...</th>\n",
       "      <td>...</td>\n",
       "      <td>...</td>\n",
       "      <td>...</td>\n",
       "      <td>...</td>\n",
       "      <td>...</td>\n",
       "      <td>...</td>\n",
       "      <td>...</td>\n",
       "      <td>...</td>\n",
       "      <td>...</td>\n",
       "      <td>...</td>\n",
       "      <td>...</td>\n",
       "    </tr>\n",
       "    <tr>\n",
       "      <th>273</th>\n",
       "      <td>Alex Stepheson</td>\n",
       "      <td>Memphis Grizzlies</td>\n",
       "      <td>35</td>\n",
       "      <td>PF</td>\n",
       "      <td>28</td>\n",
       "      <td>06-Oct</td>\n",
       "      <td>270</td>\n",
       "      <td>USC</td>\n",
       "      <td>NaN</td>\n",
       "      <td>150</td>\n",
       "      <td>25-34</td>\n",
       "    </tr>\n",
       "    <tr>\n",
       "      <th>350</th>\n",
       "      <td>Briante Weber</td>\n",
       "      <td>Miami Heat</td>\n",
       "      <td>12</td>\n",
       "      <td>PG</td>\n",
       "      <td>23</td>\n",
       "      <td>06-Feb</td>\n",
       "      <td>165</td>\n",
       "      <td>Virginia Commonwealth</td>\n",
       "      <td>NaN</td>\n",
       "      <td>173</td>\n",
       "      <td>18-24</td>\n",
       "    </tr>\n",
       "    <tr>\n",
       "      <th>353</th>\n",
       "      <td>Dorell Wright</td>\n",
       "      <td>Miami Heat</td>\n",
       "      <td>11</td>\n",
       "      <td>SF</td>\n",
       "      <td>30</td>\n",
       "      <td>06-Sep</td>\n",
       "      <td>205</td>\n",
       "      <td>NaN</td>\n",
       "      <td>NaN</td>\n",
       "      <td>179</td>\n",
       "      <td>25-34</td>\n",
       "    </tr>\n",
       "    <tr>\n",
       "      <th>397</th>\n",
       "      <td>Axel Toupane</td>\n",
       "      <td>Denver Nuggets</td>\n",
       "      <td>6</td>\n",
       "      <td>SG</td>\n",
       "      <td>23</td>\n",
       "      <td>06-Jul</td>\n",
       "      <td>210</td>\n",
       "      <td>NaN</td>\n",
       "      <td>NaN</td>\n",
       "      <td>152</td>\n",
       "      <td>18-24</td>\n",
       "    </tr>\n",
       "    <tr>\n",
       "      <th>409</th>\n",
       "      <td>Greg Smith</td>\n",
       "      <td>Minnesota Timberwolves</td>\n",
       "      <td>4</td>\n",
       "      <td>PF</td>\n",
       "      <td>25</td>\n",
       "      <td>06-Oct</td>\n",
       "      <td>250</td>\n",
       "      <td>Fresno State</td>\n",
       "      <td>NaN</td>\n",
       "      <td>165</td>\n",
       "      <td>25-34</td>\n",
       "    </tr>\n",
       "  </tbody>\n",
       "</table>\n",
       "<p>458 rows × 11 columns</p>\n",
       "</div>"
      ],
      "text/plain": [
       "                Name                    Team  Number Position  Age  Height  \\\n",
       "109      Kobe Bryant      Los Angeles Lakers      24       SF   37  06-Jun   \n",
       "169     LeBron James     Cleveland Cavaliers      23       SF   31  06-Aug   \n",
       "33   Carmelo Anthony         New York Knicks       7       SF   32  06-Aug   \n",
       "251    Dwight Howard         Houston Rockets      12        C   30  06-Nov   \n",
       "339       Chris Bosh              Miami Heat       1       PF   32  06-Nov   \n",
       "..               ...                     ...     ...      ...  ...     ...   \n",
       "273   Alex Stepheson       Memphis Grizzlies      35       PF   28  06-Oct   \n",
       "350    Briante Weber              Miami Heat      12       PG   23  06-Feb   \n",
       "353    Dorell Wright              Miami Heat      11       SF   30  06-Sep   \n",
       "397     Axel Toupane          Denver Nuggets       6       SG   23  06-Jul   \n",
       "409       Greg Smith  Minnesota Timberwolves       4       PF   25  06-Oct   \n",
       "\n",
       "     Weight                College      Salary  height age_group  \n",
       "109     212                    NaN  25000000.0     176     35-44  \n",
       "169     250                    NaN  22970500.0     179     25-34  \n",
       "33      240               Syracuse  22875000.0     177     25-34  \n",
       "251     265                    NaN  22359364.0     168     25-34  \n",
       "339     235           Georgia Tech  22192730.0     167     25-34  \n",
       "..      ...                    ...         ...     ...       ...  \n",
       "273     270                    USC         NaN     150     25-34  \n",
       "350     165  Virginia Commonwealth         NaN     173     18-24  \n",
       "353     205                    NaN         NaN     179     25-34  \n",
       "397     210                    NaN         NaN     152     18-24  \n",
       "409     250           Fresno State         NaN     165     25-34  \n",
       "\n",
       "[458 rows x 11 columns]"
      ]
     },
     "execution_count": 115,
     "metadata": {},
     "output_type": "execute_result"
    }
   ],
   "source": [
    "salary_by_team_position = df.sort_values(by='Salary',ascending=False)\n",
    "salary_by_team_position\n"
   ]
  },
  {
   "cell_type": "code",
   "execution_count": 116,
   "id": "b1d3c6c5-ed85-45f0-9ad9-e01e34de5a38",
   "metadata": {},
   "outputs": [
    {
     "data": {
      "text/html": [
       "<div>\n",
       "<style scoped>\n",
       "    .dataframe tbody tr th:only-of-type {\n",
       "        vertical-align: middle;\n",
       "    }\n",
       "\n",
       "    .dataframe tbody tr th {\n",
       "        vertical-align: top;\n",
       "    }\n",
       "\n",
       "    .dataframe thead th {\n",
       "        text-align: right;\n",
       "    }\n",
       "</style>\n",
       "<table border=\"1\" class=\"dataframe\">\n",
       "  <thead>\n",
       "    <tr style=\"text-align: right;\">\n",
       "      <th></th>\n",
       "      <th>Team</th>\n",
       "      <th>Position</th>\n",
       "      <th>Salary</th>\n",
       "    </tr>\n",
       "  </thead>\n",
       "  <tbody>\n",
       "    <tr>\n",
       "      <th>109</th>\n",
       "      <td>Los Angeles Lakers</td>\n",
       "      <td>SF</td>\n",
       "      <td>25000000.0</td>\n",
       "    </tr>\n",
       "    <tr>\n",
       "      <th>169</th>\n",
       "      <td>Cleveland Cavaliers</td>\n",
       "      <td>SF</td>\n",
       "      <td>22970500.0</td>\n",
       "    </tr>\n",
       "    <tr>\n",
       "      <th>33</th>\n",
       "      <td>New York Knicks</td>\n",
       "      <td>SF</td>\n",
       "      <td>22875000.0</td>\n",
       "    </tr>\n",
       "    <tr>\n",
       "      <th>251</th>\n",
       "      <td>Houston Rockets</td>\n",
       "      <td>C</td>\n",
       "      <td>22359364.0</td>\n",
       "    </tr>\n",
       "    <tr>\n",
       "      <th>339</th>\n",
       "      <td>Miami Heat</td>\n",
       "      <td>PF</td>\n",
       "      <td>22192730.0</td>\n",
       "    </tr>\n",
       "    <tr>\n",
       "      <th>...</th>\n",
       "      <td>...</td>\n",
       "      <td>...</td>\n",
       "      <td>...</td>\n",
       "    </tr>\n",
       "    <tr>\n",
       "      <th>273</th>\n",
       "      <td>Memphis Grizzlies</td>\n",
       "      <td>PF</td>\n",
       "      <td>NaN</td>\n",
       "    </tr>\n",
       "    <tr>\n",
       "      <th>350</th>\n",
       "      <td>Miami Heat</td>\n",
       "      <td>PG</td>\n",
       "      <td>NaN</td>\n",
       "    </tr>\n",
       "    <tr>\n",
       "      <th>353</th>\n",
       "      <td>Miami Heat</td>\n",
       "      <td>SF</td>\n",
       "      <td>NaN</td>\n",
       "    </tr>\n",
       "    <tr>\n",
       "      <th>397</th>\n",
       "      <td>Denver Nuggets</td>\n",
       "      <td>SG</td>\n",
       "      <td>NaN</td>\n",
       "    </tr>\n",
       "    <tr>\n",
       "      <th>409</th>\n",
       "      <td>Minnesota Timberwolves</td>\n",
       "      <td>PF</td>\n",
       "      <td>NaN</td>\n",
       "    </tr>\n",
       "  </tbody>\n",
       "</table>\n",
       "<p>458 rows × 3 columns</p>\n",
       "</div>"
      ],
      "text/plain": [
       "                       Team Position      Salary\n",
       "109      Los Angeles Lakers       SF  25000000.0\n",
       "169     Cleveland Cavaliers       SF  22970500.0\n",
       "33          New York Knicks       SF  22875000.0\n",
       "251         Houston Rockets        C  22359364.0\n",
       "339              Miami Heat       PF  22192730.0\n",
       "..                      ...      ...         ...\n",
       "273       Memphis Grizzlies       PF         NaN\n",
       "350              Miami Heat       PG         NaN\n",
       "353              Miami Heat       SF         NaN\n",
       "397          Denver Nuggets       SG         NaN\n",
       "409  Minnesota Timberwolves       PF         NaN\n",
       "\n",
       "[458 rows x 3 columns]"
      ]
     },
     "execution_count": 116,
     "metadata": {},
     "output_type": "execute_result"
    }
   ],
   "source": [
    "salary_by_team_position.loc[:,('Team','Position','Salary')]"
   ]
  },
  {
   "cell_type": "markdown",
   "id": "1efa1787-754c-4845-b8a0-cc846701b0ad",
   "metadata": {},
   "source": [
    "Data story- Team Los Angeles Lakers has the highest salary"
   ]
  },
  {
   "cell_type": "markdown",
   "id": "378cabd8-b731-4a82-b700-7ff1373a4d70",
   "metadata": {},
   "source": [
    "# Correlation between age and salary"
   ]
  },
  {
   "cell_type": "code",
   "execution_count": 119,
   "id": "9665add3-5016-41fc-b557-88de37dc48eb",
   "metadata": {},
   "outputs": [
    {
     "data": {
      "text/html": [
       "<div>\n",
       "<style scoped>\n",
       "    .dataframe tbody tr th:only-of-type {\n",
       "        vertical-align: middle;\n",
       "    }\n",
       "\n",
       "    .dataframe tbody tr th {\n",
       "        vertical-align: top;\n",
       "    }\n",
       "\n",
       "    .dataframe thead th {\n",
       "        text-align: right;\n",
       "    }\n",
       "</style>\n",
       "<table border=\"1\" class=\"dataframe\">\n",
       "  <thead>\n",
       "    <tr style=\"text-align: right;\">\n",
       "      <th></th>\n",
       "      <th>Age</th>\n",
       "      <th>height</th>\n",
       "      <th>Weight</th>\n",
       "      <th>Salary</th>\n",
       "    </tr>\n",
       "  </thead>\n",
       "  <tbody>\n",
       "    <tr>\n",
       "      <th>0</th>\n",
       "      <td>25</td>\n",
       "      <td>160</td>\n",
       "      <td>180</td>\n",
       "      <td>7730337.0</td>\n",
       "    </tr>\n",
       "    <tr>\n",
       "      <th>1</th>\n",
       "      <td>25</td>\n",
       "      <td>159</td>\n",
       "      <td>235</td>\n",
       "      <td>6796117.0</td>\n",
       "    </tr>\n",
       "    <tr>\n",
       "      <th>2</th>\n",
       "      <td>27</td>\n",
       "      <td>174</td>\n",
       "      <td>205</td>\n",
       "      <td>NaN</td>\n",
       "    </tr>\n",
       "    <tr>\n",
       "      <th>3</th>\n",
       "      <td>22</td>\n",
       "      <td>164</td>\n",
       "      <td>185</td>\n",
       "      <td>1148640.0</td>\n",
       "    </tr>\n",
       "    <tr>\n",
       "      <th>4</th>\n",
       "      <td>29</td>\n",
       "      <td>165</td>\n",
       "      <td>231</td>\n",
       "      <td>5000000.0</td>\n",
       "    </tr>\n",
       "    <tr>\n",
       "      <th>...</th>\n",
       "      <td>...</td>\n",
       "      <td>...</td>\n",
       "      <td>...</td>\n",
       "      <td>...</td>\n",
       "    </tr>\n",
       "    <tr>\n",
       "      <th>453</th>\n",
       "      <td>26</td>\n",
       "      <td>160</td>\n",
       "      <td>203</td>\n",
       "      <td>2433333.0</td>\n",
       "    </tr>\n",
       "    <tr>\n",
       "      <th>454</th>\n",
       "      <td>24</td>\n",
       "      <td>162</td>\n",
       "      <td>179</td>\n",
       "      <td>900000.0</td>\n",
       "    </tr>\n",
       "    <tr>\n",
       "      <th>455</th>\n",
       "      <td>26</td>\n",
       "      <td>150</td>\n",
       "      <td>256</td>\n",
       "      <td>2900000.0</td>\n",
       "    </tr>\n",
       "    <tr>\n",
       "      <th>456</th>\n",
       "      <td>26</td>\n",
       "      <td>154</td>\n",
       "      <td>231</td>\n",
       "      <td>947276.0</td>\n",
       "    </tr>\n",
       "    <tr>\n",
       "      <th>457</th>\n",
       "      <td>25</td>\n",
       "      <td>180</td>\n",
       "      <td>231</td>\n",
       "      <td>947276.0</td>\n",
       "    </tr>\n",
       "  </tbody>\n",
       "</table>\n",
       "<p>458 rows × 4 columns</p>\n",
       "</div>"
      ],
      "text/plain": [
       "     Age  height  Weight     Salary\n",
       "0     25     160     180  7730337.0\n",
       "1     25     159     235  6796117.0\n",
       "2     27     174     205        NaN\n",
       "3     22     164     185  1148640.0\n",
       "4     29     165     231  5000000.0\n",
       "..   ...     ...     ...        ...\n",
       "453   26     160     203  2433333.0\n",
       "454   24     162     179   900000.0\n",
       "455   26     150     256  2900000.0\n",
       "456   26     154     231   947276.0\n",
       "457   25     180     231   947276.0\n",
       "\n",
       "[458 rows x 4 columns]"
      ]
     },
     "execution_count": 119,
     "metadata": {},
     "output_type": "execute_result"
    }
   ],
   "source": [
    "data=df[[\"Age\",\"height\",\"Weight\",\"Salary\"]]\n",
    "data"
   ]
  },
  {
   "cell_type": "code",
   "execution_count": 120,
   "id": "64a1e596-20af-42b7-bf72-17dc444e8ff3",
   "metadata": {},
   "outputs": [
    {
     "data": {
      "text/html": [
       "<div>\n",
       "<style scoped>\n",
       "    .dataframe tbody tr th:only-of-type {\n",
       "        vertical-align: middle;\n",
       "    }\n",
       "\n",
       "    .dataframe tbody tr th {\n",
       "        vertical-align: top;\n",
       "    }\n",
       "\n",
       "    .dataframe thead th {\n",
       "        text-align: right;\n",
       "    }\n",
       "</style>\n",
       "<table border=\"1\" class=\"dataframe\">\n",
       "  <thead>\n",
       "    <tr style=\"text-align: right;\">\n",
       "      <th></th>\n",
       "      <th>Age</th>\n",
       "      <th>height</th>\n",
       "      <th>Weight</th>\n",
       "      <th>Salary</th>\n",
       "    </tr>\n",
       "  </thead>\n",
       "  <tbody>\n",
       "    <tr>\n",
       "      <th>Age</th>\n",
       "      <td>1.000000</td>\n",
       "      <td>-0.001196</td>\n",
       "      <td>0.086806</td>\n",
       "      <td>0.214009</td>\n",
       "    </tr>\n",
       "    <tr>\n",
       "      <th>height</th>\n",
       "      <td>-0.001196</td>\n",
       "      <td>1.000000</td>\n",
       "      <td>-0.006880</td>\n",
       "      <td>0.089890</td>\n",
       "    </tr>\n",
       "    <tr>\n",
       "      <th>Weight</th>\n",
       "      <td>0.086806</td>\n",
       "      <td>-0.006880</td>\n",
       "      <td>1.000000</td>\n",
       "      <td>0.137626</td>\n",
       "    </tr>\n",
       "    <tr>\n",
       "      <th>Salary</th>\n",
       "      <td>0.214009</td>\n",
       "      <td>0.089890</td>\n",
       "      <td>0.137626</td>\n",
       "      <td>1.000000</td>\n",
       "    </tr>\n",
       "  </tbody>\n",
       "</table>\n",
       "</div>"
      ],
      "text/plain": [
       "             Age    height    Weight    Salary\n",
       "Age     1.000000 -0.001196  0.086806  0.214009\n",
       "height -0.001196  1.000000 -0.006880  0.089890\n",
       "Weight  0.086806 -0.006880  1.000000  0.137626\n",
       "Salary  0.214009  0.089890  0.137626  1.000000"
      ]
     },
     "execution_count": 120,
     "metadata": {},
     "output_type": "execute_result"
    }
   ],
   "source": [
    "correlation=data.corr()\n",
    "correlation"
   ]
  },
  {
   "cell_type": "code",
   "execution_count": 122,
   "id": "81434d26-b1e6-4f79-95a9-dffdb6a3c6d7",
   "metadata": {},
   "outputs": [
    {
     "data": {
      "image/png": "[encoded data removed]",
      "text/plain": [
       "<Figure size 1000x600 with 1 Axes>"
      ]
     },
     "metadata": {},
     "output_type": "display_data"
    }
   ],
   "source": [
    "correlation = data[['Age', 'Salary']].corr()\n",
    "plt.figure(figsize=(10, 6))\n",
    "sns.scatterplot(x='Age', y='Salary', data=data)\n",
    "plt.title('Correlation between Age and Salary')\n",
    "plt.show()\n"
   ]
  },
  {
   "cell_type": "code",
   "execution_count": 123,
   "id": "9d8786af-32b9-4248-a043-d440efe46e6b",
   "metadata": {},
   "outputs": [
    {
     "data": {
      "image/png": "[encoded data removed]",
      "text/plain": [
       "<Figure size 640x480 with 2 Axes>"
      ]
     },
     "metadata": {},
     "output_type": "display_data"
    }
   ],
   "source": [
    "sns.heatmap(correlation,annot=True)\n",
    "plt.title(\"CORRELATION BETWEEN AGE AND SALARY\")\n",
    "plt.show()"
   ]
  },
  {
   "cell_type": "code",
   "execution_count": null,
   "id": "b444f07a-6678-46e7-bef2-5d3ffa33f04d",
   "metadata": {},
   "outputs": [],
   "source": []
  }
 ],
 "metadata": {
  "kernelspec": {
   "display_name": "Python 3 (ipykernel)",
   "language": "python",
   "name": "python3"
  },
  "language_info": {
   "codemirror_mode": {
    "name": "ipython",
    "version": 3
   },
   "file_extension": ".py",
   "mimetype": "text/x-python",
   "name": "python",
   "nbconvert_exporter": "python",
   "pygments_lexer": "ipython3",
   "version": "3.11.5"
  }
 },
 "nbformat": 4,
 "nbformat_minor": 5
}
